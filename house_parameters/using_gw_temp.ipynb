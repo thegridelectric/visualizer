{
 "cells": [
  {
   "cell_type": "code",
   "execution_count": 1,
   "metadata": {},
   "outputs": [
    {
     "name": "stdout",
     "output_type": "stream",
     "text": [
      "Reading json file...\n",
      "Opened messages from json\n"
     ]
    }
   ],
   "source": [
    "from fake_models import MessageSql\n",
    "from fake_config import Settings\n",
    "from sqlalchemy import create_engine, asc, or_\n",
    "from sqlalchemy.orm import sessionmaker\n",
    "import dotenv\n",
    "import pendulum\n",
    "import requests\n",
    "import datetime\n",
    "import pytz\n",
    "from datetime import datetime\n",
    "import numpy as np\n",
    "import json\n",
    "import matplotlib.pyplot as plt\n",
    "\n",
    "def from_dict_msg(data):\n",
    "    message = MessageSql(\n",
    "            message_id=data[\"MessageId\"],\n",
    "            from_alias=data[\"FromAlias\"],\n",
    "            message_type_name=data[\"MessageTypeName\"],\n",
    "            message_persisted_ms=data[\"MessagePersistedMs\"],\n",
    "            payload=data[\"Payload\"],\n",
    "            message_created_ms=data.get(\"MessageCreatedMs\")  # This is optional\n",
    "        )\n",
    "    return message\n",
    "\n",
    "# Load the list of messages from the JSON file\n",
    "print('Reading json file...')\n",
    "with open('messages.json', 'r') as file:\n",
    "    messages_dict = json.load(file)\n",
    "messages_loaded = [from_dict_msg(message_data) for message_data in messages_dict]\n",
    "print(\"Opened messages from json\")"
   ]
  },
  {
   "cell_type": "code",
   "execution_count": null,
   "metadata": {},
   "outputs": [
    {
     "name": "stdout",
     "output_type": "stream",
     "text": [
      "['zone1-down-gw-temp', 'zone2-up-gw-temp']\n"
     ]
    }
   ],
   "source": [
    "selected_messages = messages_loaded.copy()\n",
    "start_ms = pendulum.datetime(2024, 12, 13, 7, tz=\"America/New_York\").timestamp() * 1000 \n",
    "end_ms = pendulum.datetime(2024, 12, 13, 8, 5, tz=\"America/New_York\").timestamp() * 1000 \n",
    "house_alias = 'beech'\n",
    "\n",
    "all_channels = {}\n",
    "for message in [x for x in selected_messages \n",
    "                if f'{house_alias}' in x.from_alias\n",
    "                and x.message_persisted_ms >= start_ms-15*60*1000\n",
    "                and x.message_persisted_ms <= end_ms+15*60*1000]:\n",
    "    for channel in message.payload['ChannelReadingList']:\n",
    "        # Find the channel name\n",
    "        if message.message_type_name == 'report':\n",
    "            channel_name = channel['ChannelName']\n",
    "        elif message.message_type_name == 'batched.readings':\n",
    "            for dc in message.payload['DataChannelList']:\n",
    "                if dc['Id'] == channel['ChannelId']:\n",
    "                    channel_name = dc['Name']\n",
    "        # Store the values and times for the channel\n",
    "        if 'gw-temp' in channel_name:\n",
    "            if channel_name not in all_channels:\n",
    "                all_channels[channel_name] = {\n",
    "                    'values': channel['ValueList'],\n",
    "                    'times': channel['ScadaReadTimeUnixMsList']\n",
    "                }\n",
    "            else:\n",
    "                all_channels[channel_name]['values'].extend(channel['ValueList'])\n",
    "                all_channels[channel_name]['times'].extend(channel['ScadaReadTimeUnixMsList'])\n",
    "\n",
    "for key in all_channels.keys():\n",
    "    sorted_times_values = sorted(zip(all_channels[key]['times'], all_channels[key]['values']))\n",
    "    sorted_times, sorted_values = zip(*sorted_times_values)\n",
    "    all_channels[key]['values'] = list(sorted_values)\n",
    "    all_channels[key]['times'] = list(sorted_times)\n",
    "\n",
    "zones_gw_temps = []\n",
    "for channel_name in all_channels.keys():\n",
    "    if 'gw-temp' in channel_name:\n",
    "        all_channels[channel_name]['values'] = [x/1000 for x in all_channels[channel_name]['values']]\n",
    "        zones_gw_temps.append(channel_name)\n",
    "\n",
    "print(zones_gw_temps)"
   ]
  },
  {
   "cell_type": "code",
   "execution_count": null,
   "metadata": {},
   "outputs": [
    {
     "name": "stdout",
     "output_type": "stream",
     "text": [
      "\n",
      "zone1-down-gw-temp\n",
      "Temp start: 20.31\n",
      "Temp end: 20.72\n",
      "Energy stored in house: 1.64 kWh\n",
      "\n",
      "zone2-up-gw-temp\n",
      "Temp start: 17.82\n",
      "Temp end: 18.62\n"
     ]
    }
   ],
   "source": [
    "temp_start, temp_end = {}, {}\n",
    "energy_stored_in_house = 0\n",
    "\n",
    "for zone in zones_gw_temps:\n",
    "    print(f\"\\n{zone}\")\n",
    "    chn = all_channels[zone]\n",
    " \n",
    "    temperatures = [\n",
    "        value for time, value \n",
    "        in zip(chn['times'], chn['values']) \n",
    "        if time < end_ms\n",
    "        and time > start_ms - 15*60*1000\n",
    "        ]\n",
    "    temperatures_no_tail = [\n",
    "        value for time, value \n",
    "        in zip(chn['times'], chn['values']) \n",
    "        if time < end_ms\n",
    "        and time > start_ms\n",
    "        ]\n",
    "    tail_size = len(temperatures) - len(temperatures_no_tail)\n",
    "    \n",
    "    alpha = 0.5\n",
    "    smoothed_temperatures = [temperatures[0]]*len(temperatures)\n",
    "    for t in range(len(temperatures)-1):\n",
    "        smoothed_temperatures[t+1] = (1-alpha)*smoothed_temperatures[t] + alpha*temperatures[t+1]\n",
    "    smoothed_temperatures = smoothed_temperatures[tail_size:]\n",
    "    temperatures = temperatures[tail_size:]\n",
    "\n",
    "    temp_start[zone] = round(smoothed_temperatures[0],2)\n",
    "    temp_end[zone] = round(smoothed_temperatures[-1],2)\n",
    "\n",
    "    print(f\"Temp start: {temp_start[zone]}\")\n",
    "    print(f\"Temp end: {temp_end[zone]}\")\n",
    "\n",
    "    if 'zone1' in zone:\n",
    "        thermal_mass = 4 #kWh/degF\n",
    "        energy_stored_in_house += round(thermal_mass * (temp_end[zone] - temp_start[zone]),2)\n",
    "        print(f\"Energy stored in house: {energy_stored_in_house} kWh\")\n",
    "    \n",
    "    # plt.title(zone)\n",
    "    # plt.plot(range(len(temperatures)), temperatures, alpha=0.3, color='gray')\n",
    "    # plt.plot(range(len(smoothed_temperatures)), smoothed_temperatures, alpha=0.3, color='red')\n",
    "    # plt.plot([0, len(smoothed_temperatures)-1], [temp_start[zone], temp_end[zone]], '-x')\n",
    "    # plt.show()"
   ]
  },
  {
   "cell_type": "code",
   "execution_count": null,
   "metadata": {},
   "outputs": [],
   "source": []
  },
  {
   "cell_type": "code",
   "execution_count": null,
   "metadata": {},
   "outputs": [],
   "source": []
  }
 ],
 "metadata": {
  "kernelspec": {
   "display_name": "p11",
   "language": "python",
   "name": "python3"
  },
  "language_info": {
   "codemirror_mode": {
    "name": "ipython",
    "version": 3
   },
   "file_extension": ".py",
   "mimetype": "text/x-python",
   "name": "python",
   "nbconvert_exporter": "python",
   "pygments_lexer": "ipython3",
   "version": "3.11.10"
  }
 },
 "nbformat": 4,
 "nbformat_minor": 2
}
