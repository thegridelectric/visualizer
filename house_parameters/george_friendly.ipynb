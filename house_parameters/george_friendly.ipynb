{
 "cells": [
  {
   "cell_type": "code",
   "execution_count": 1,
   "metadata": {},
   "outputs": [],
   "source": [
    "YEAR, MONTH, DAY, HOUR = 2025, 1, 21, 7\n",
    "ON_PEAK_PERIOD = 'morning' # 'morning' or 'afternoon'\n",
    "\n",
    "from energy_usage import energy_used\n",
    "# energy_use = energy_used('oak', YEAR, MONTH, DAY, onpeak_period=ON_PEAK_PERIOD)"
   ]
  },
  {
   "cell_type": "code",
   "execution_count": 2,
   "metadata": {},
   "outputs": [],
   "source": [
    "# from energy_prediction import energy_predicted\n",
    "# energy_predict = energy_predicted('oak', YEAR, MONTH, DAY, onpeak_period=ON_PEAK_PERIOD)"
   ]
  },
  {
   "cell_type": "code",
   "execution_count": 3,
   "metadata": {},
   "outputs": [
    {
     "name": "stdout",
     "output_type": "stream",
     "text": [
      "Calculatig energy used on 2025/1/21, from 7:00 to 8:00\n",
      "Energy used: 10.7 kWh\n"
     ]
    }
   ],
   "source": [
    "energy_use = energy_used('oak', YEAR, MONTH, DAY, HOUR)"
   ]
  },
  {
   "cell_type": "code",
   "execution_count": null,
   "metadata": {},
   "outputs": [],
   "source": []
  }
 ],
 "metadata": {
  "kernelspec": {
   "display_name": "p11",
   "language": "python",
   "name": "python3"
  },
  "language_info": {
   "codemirror_mode": {
    "name": "ipython",
    "version": 3
   },
   "file_extension": ".py",
   "mimetype": "text/x-python",
   "name": "python",
   "nbconvert_exporter": "python",
   "pygments_lexer": "ipython3",
   "version": "3.11.10"
  }
 },
 "nbformat": 4,
 "nbformat_minor": 2
}
