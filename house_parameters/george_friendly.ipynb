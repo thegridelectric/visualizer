{
 "cells": [
  {
   "cell_type": "code",
   "execution_count": 1,
   "metadata": {},
   "outputs": [
    {
     "name": "stdout",
     "output_type": "stream",
     "text": [
      "Finding data...\n",
      "Done!\n"
     ]
    }
   ],
   "source": [
    "YEAR, MONTH, DAY, HOUR = 2025, 2, 5, 7\n",
    "ON_PEAK_PERIOD = 'morning' # 'morning' or 'afternoon'\n",
    "\n",
    "from energy_usage import energy_used\n",
    "# energy_use = energy_used('oak', YEAR, MONTH, DAY, onpeak_period=ON_PEAK_PERIOD)"
   ]
  },
  {
   "cell_type": "code",
   "execution_count": 7,
   "metadata": {},
   "outputs": [
    {
     "name": "stdout",
     "output_type": "stream",
     "text": [
      "150\n",
      "\n",
      "Calculatig energy used on 2025/2/5, from 8:00 to 9:00\n",
      "16\n",
      "Store before: [168.35, 159.584, 164.984, 161.87, 167.846, 169.16, 168.458, 162.716, 164.21, 166.568, 160.466, 170.222]\n",
      "Store after: [167.144, 159.782, 165.128, 162.014, 166.37, 167.54, 166.64, 143.186, 136.328, 111.74, 108.518, 117.914]\n",
      "Store used: 15.563855339583347\n",
      "Energy put into the house: 7.5 kWh\n",
      "Energy put out the house: 7.5 kWh\n"
     ]
    }
   ],
   "source": [
    "energy_use = energy_used('oak', YEAR, MONTH, DAY, 8)"
   ]
  },
  {
   "cell_type": "code",
   "execution_count": 3,
   "metadata": {},
   "outputs": [
    {
     "data": {
      "image/png": "[encoded data removed]",
      "text/plain": [
       "<Figure size 640x480 with 1 Axes>"
      ]
     },
     "metadata": {},
     "output_type": "display_data"
    }
   ],
   "source": [
    "hours = [7, 8, 9, 10, 11, 12]\n",
    "store_used = [1.64, 15.56, 7.8, 0.4, 6.19, 6.19]\n",
    "\n",
    "import matplotlib.pyplot as plt\n",
    "plt.step(hours, store_used, where='post')\n",
    "plt.xticks(hours)\n",
    "plt.show()"
   ]
  },
  {
   "cell_type": "code",
   "execution_count": 5,
   "metadata": {},
   "outputs": [
    {
     "name": "stdout",
     "output_type": "stream",
     "text": [
      "545.3578432722222\n"
     ]
    }
   ],
   "source": [
    "def to_kelvin(t):\n",
    "    return (t-32)*5/9 + 273.15\n",
    "\n",
    "top_temp = 167\n",
    "bottom_temp = 155\n",
    "thermocline = 10\n",
    "\n",
    "m_layer_kg = 360*3.785 / 24\n",
    "kWh_above_thermocline = (thermocline-0.5)*m_layer_kg * 4.187/3600 * to_kelvin(top_temp)\n",
    "kWh_below_thermocline = (24-thermocline+0.5)*m_layer_kg * 4.187/3600 * to_kelvin(bottom_temp)\n",
    "print(kWh_above_thermocline + kWh_below_thermocline)"
   ]
  },
  {
   "cell_type": "code",
   "execution_count": 8,
   "metadata": {},
   "outputs": [
    {
     "name": "stdout",
     "output_type": "stream",
     "text": [
      "546.4767269469908\n"
     ]
    }
   ],
   "source": [
    "top_temp = 164\n",
    "bottom_temp = 153\n",
    "thermocline = 18\n",
    "\n",
    "m_layer_kg = 360*3.785 / 24\n",
    "kWh_above_thermocline = (thermocline-0.5)*m_layer_kg * 4.187/3600 * to_kelvin(top_temp)\n",
    "kWh_below_thermocline = (24-thermocline+0.5)*m_layer_kg * 4.187/3600 * to_kelvin(bottom_temp)\n",
    "print(kWh_above_thermocline + kWh_below_thermocline)"
   ]
  },
  {
   "cell_type": "code",
   "execution_count": 9,
   "metadata": {},
   "outputs": [
    {
     "data": {
      "text/plain": [
       "1.11888367476854"
      ]
     },
     "execution_count": 9,
     "metadata": {},
     "output_type": "execute_result"
    }
   ],
   "source": [
    "546.4767269469908 - 545.3578432722222"
   ]
  },
  {
   "cell_type": "code",
   "execution_count": null,
   "metadata": {},
   "outputs": [],
   "source": []
  }
 ],
 "metadata": {
  "kernelspec": {
   "display_name": "p11",
   "language": "python",
   "name": "python3"
  },
  "language_info": {
   "codemirror_mode": {
    "name": "ipython",
    "version": 3
   },
   "file_extension": ".py",
   "mimetype": "text/x-python",
   "name": "python",
   "nbconvert_exporter": "python",
   "pygments_lexer": "ipython3",
   "version": "3.11.10"
  }
 },
 "nbformat": 4,
 "nbformat_minor": 2
}
