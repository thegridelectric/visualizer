{
 "cells": [
  {
   "cell_type": "code",
   "execution_count": null,
   "metadata": {},
   "outputs": [],
   "source": [
    "import io\n",
    "import zipfile\n",
    "import numpy as np\n",
    "import pandas as pd\n",
    "from typing import List\n",
    "from fastapi import FastAPI\n",
    "from fastapi.middleware.cors import CORSMiddleware\n",
    "from fastapi.responses import StreamingResponse\n",
    "import dotenv\n",
    "import pendulum\n",
    "from datetime import timedelta\n",
    "from pydantic import BaseModel\n",
    "from sqlalchemy import create_engine, asc, or_\n",
    "from sqlalchemy.orm import sessionmaker\n",
    "from config import Settings\n",
    "from models import MessageSql\n",
    "import matplotlib.pyplot as plt\n",
    "\n",
    "settings = Settings(_env_file=dotenv.find_dotenv())\n",
    "valid_password = settings.visualizer_api_password.get_secret_value()\n",
    "engine = create_engine(settings.db_url.get_secret_value())\n",
    "Session = sessionmaker(bind=engine)\n",
    "session = Session()\n",
    "\n",
    "house_alias = 'fir'\n",
    "timezone = \"America/New_York\"\n",
    "start = pendulum.datetime(2024, 11, 5, 0, 0, tz=timezone)\n",
    "end = pendulum.datetime(2024, 11, 6, 23, 30, tz=timezone)\n",
    "start_ms = int(start.timestamp() * 1000)\n",
    "end_ms = int(end.timestamp() * 1000)\n",
    "\n",
    "messages = session.query(MessageSql).filter(\n",
    "    # MessageSql.from_alias.like(f'%{house_alias}%'),\n",
    "    MessageSql.message_type_name == \"gridworks.event.problem\",\n",
    "    MessageSql.message_persisted_ms >= start_ms,\n",
    "    MessageSql.message_persisted_ms <= end_ms,\n",
    ").order_by(asc(MessageSql.message_persisted_ms)).all()"
   ]
  },
  {
   "cell_type": "code",
   "execution_count": 10,
   "metadata": {},
   "outputs": [
    {
     "name": "stdout",
     "output_type": "stream",
     "text": [
      "Error in fir at time 2024-11-05T14:47:56.576000+00:00\n",
      "Error in fir at time 2024-11-05T14:47:56.597000+00:00\n",
      "Error in fir at time 2024-11-05T14:47:56.604000+00:00\n",
      "Error in fir at time 2024-11-06T21:52:36.932000+00:00\n",
      "Error in fir at time 2024-11-06T21:52:36.957000+00:00\n",
      "Error in fir at time 2024-11-06T21:52:36.963000+00:00\n"
     ]
    },
    {
     "data": {
      "image/png": "[encoded data removed]",
      "text/plain": [
       "<Figure size 640x480 with 1 Axes>"
      ]
     },
     "metadata": {},
     "output_type": "display_data"
    }
   ],
   "source": [
    "error_messages = []\n",
    "for message in messages:\n",
    "    error_messages.append(pendulum.from_timestamp(message.message_persisted_ms/1000))\n",
    "    print(f\"Error in {message.from_alias.split('.')[-2]} at time {error_messages[-1]}\")\n",
    "\n",
    "plt.scatter(error_messages, [1]*len(error_messages)) \n",
    "# plt.xlim([pendulum.from_timestamp(start_ms/1000),\n",
    "        #   pendulum.from_timestamp(end_ms/1000)])\n",
    "plt.show()"
   ]
  },
  {
   "cell_type": "code",
   "execution_count": null,
   "metadata": {},
   "outputs": [],
   "source": []
  }
 ],
 "metadata": {
  "kernelspec": {
   "display_name": "adda",
   "language": "python",
   "name": "python3"
  },
  "language_info": {
   "codemirror_mode": {
    "name": "ipython",
    "version": 3
   },
   "file_extension": ".py",
   "mimetype": "text/x-python",
   "name": "python",
   "nbconvert_exporter": "python",
   "pygments_lexer": "ipython3",
   "version": "3.10.15"
  }
 },
 "nbformat": 4,
 "nbformat_minor": 2
}
