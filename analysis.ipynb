{
 "cells": [
  {
   "cell_type": "code",
   "execution_count": 1,
   "metadata": {},
   "outputs": [
    {
     "name": "stdout",
     "output_type": "stream",
     "text": [
      "Reading json file...\n",
      "Opened FloParams from json\n",
      "Running Dijkstra and saving analysis to excel...\n",
      "Combining (103, 16) with (103, 8)\n",
      "Combining (107, 16) with (107, 8)\n",
      "Combining (112, 16) with (112, 8)\n",
      "Combining (119, 16) with (119, 8)\n",
      "Combining (128, 16) with (128, 8)\n",
      "Combining (141, 16) with (141, 8)\n",
      "[PriceQuantityUnitless(PriceTimes1000=-100000, QuantityTimes1000=7321, TypeName='price.quantity.unitless', Version='000'), PriceQuantityUnitless(PriceTimes1000=9000, QuantityTimes1000=6647, TypeName='price.quantity.unitless', Version='000'), PriceQuantityUnitless(PriceTimes1000=150000, QuantityTimes1000=3029, TypeName='price.quantity.unitless', Version='000'), PriceQuantityUnitless(PriceTimes1000=153000, QuantityTimes1000=0, TypeName='price.quantity.unitless', Version='000')]\n",
      "4\n",
      "Done.\n"
     ]
    }
   ],
   "source": [
    "from analysis import download_excel\n",
    "import pendulum\n",
    "\n",
    "just_before = pendulum.datetime(2025, 1, 18, 9, 5, tz=\"America/New_York\").timestamp()*1000\n",
    "download_excel(\"oak\", just_before)"
   ]
  },
  {
   "cell_type": "code",
   "execution_count": null,
   "metadata": {},
   "outputs": [],
   "source": []
  }
 ],
 "metadata": {
  "kernelspec": {
   "display_name": "p11",
   "language": "python",
   "name": "python3"
  },
  "language_info": {
   "codemirror_mode": {
    "name": "ipython",
    "version": 3
   },
   "file_extension": ".py",
   "mimetype": "text/x-python",
   "name": "python",
   "nbconvert_exporter": "python",
   "pygments_lexer": "ipython3",
   "version": "3.11.10"
  }
 },
 "nbformat": 4,
 "nbformat_minor": 2
}
